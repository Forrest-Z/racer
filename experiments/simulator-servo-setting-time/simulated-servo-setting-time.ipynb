{
 "cells": [
  {
   "cell_type": "code",
   "execution_count": 2,
   "metadata": {},
   "outputs": [],
   "source": [
    "import pandas as pd\n",
    "import numpy as np\n",
    "import matplotlib.pyplot as plt"
   ]
  },
  {
   "cell_type": "code",
   "execution_count": 6,
   "metadata": {},
   "outputs": [
    {
     "data": {
      "text/html": [
       "<div>\n",
       "<style scoped>\n",
       "    .dataframe tbody tr th:only-of-type {\n",
       "        vertical-align: middle;\n",
       "    }\n",
       "\n",
       "    .dataframe tbody tr th {\n",
       "        vertical-align: top;\n",
       "    }\n",
       "\n",
       "    .dataframe thead th {\n",
       "        text-align: right;\n",
       "    }\n",
       "</style>\n",
       "<table border=\"1\" class=\"dataframe\">\n",
       "  <thead>\n",
       "    <tr style=\"text-align: right;\">\n",
       "      <th></th>\n",
       "      <th>from</th>\n",
       "      <th>to</th>\n",
       "      <th>s</th>\n",
       "    </tr>\n",
       "  </thead>\n",
       "  <tbody>\n",
       "    <tr>\n",
       "      <th>0</th>\n",
       "      <td>0.025061</td>\n",
       "      <td>0.900099</td>\n",
       "      <td>1.591799</td>\n",
       "    </tr>\n",
       "    <tr>\n",
       "      <th>1</th>\n",
       "      <td>0.918840</td>\n",
       "      <td>-0.900210</td>\n",
       "      <td>1.731952</td>\n",
       "    </tr>\n",
       "    <tr>\n",
       "      <th>2</th>\n",
       "      <td>-0.912962</td>\n",
       "      <td>0.900180</td>\n",
       "      <td>1.731570</td>\n",
       "    </tr>\n",
       "    <tr>\n",
       "      <th>3</th>\n",
       "      <td>0.918578</td>\n",
       "      <td>-0.900774</td>\n",
       "      <td>1.731616</td>\n",
       "    </tr>\n",
       "    <tr>\n",
       "      <th>4</th>\n",
       "      <td>-0.913813</td>\n",
       "      <td>0.900129</td>\n",
       "      <td>1.731838</td>\n",
       "    </tr>\n",
       "    <tr>\n",
       "      <th>...</th>\n",
       "      <td>...</td>\n",
       "      <td>...</td>\n",
       "      <td>...</td>\n",
       "    </tr>\n",
       "    <tr>\n",
       "      <th>147</th>\n",
       "      <td>0.632028</td>\n",
       "      <td>-0.500002</td>\n",
       "      <td>1.271586</td>\n",
       "    </tr>\n",
       "    <tr>\n",
       "      <th>148</th>\n",
       "      <td>-0.527899</td>\n",
       "      <td>0.500970</td>\n",
       "      <td>1.511433</td>\n",
       "    </tr>\n",
       "    <tr>\n",
       "      <th>149</th>\n",
       "      <td>0.533562</td>\n",
       "      <td>-0.501315</td>\n",
       "      <td>1.220884</td>\n",
       "    </tr>\n",
       "    <tr>\n",
       "      <th>150</th>\n",
       "      <td>-0.528815</td>\n",
       "      <td>0.500278</td>\n",
       "      <td>1.374275</td>\n",
       "    </tr>\n",
       "    <tr>\n",
       "      <th>151</th>\n",
       "      <td>0.535872</td>\n",
       "      <td>-0.501076</td>\n",
       "      <td>1.221703</td>\n",
       "    </tr>\n",
       "  </tbody>\n",
       "</table>\n",
       "<p>152 rows × 3 columns</p>\n",
       "</div>"
      ],
      "text/plain": [
       "         from        to         s\n",
       "0    0.025061  0.900099  1.591799\n",
       "1    0.918840 -0.900210  1.731952\n",
       "2   -0.912962  0.900180  1.731570\n",
       "3    0.918578 -0.900774  1.731616\n",
       "4   -0.913813  0.900129  1.731838\n",
       "..        ...       ...       ...\n",
       "147  0.632028 -0.500002  1.271586\n",
       "148 -0.527899  0.500970  1.511433\n",
       "149  0.533562 -0.501315  1.220884\n",
       "150 -0.528815  0.500278  1.374275\n",
       "151  0.535872 -0.501076  1.221703\n",
       "\n",
       "[152 rows x 3 columns]"
      ]
     },
     "execution_count": 6,
     "metadata": {},
     "output_type": "execute_result"
    }
   ],
   "source": [
    "csv = pd.read_csv(\"steering-adjustment-times.csv\")\n",
    "csv"
   ]
  },
  {
   "cell_type": "code",
   "execution_count": 10,
   "metadata": {},
   "outputs": [
    {
     "data": {
      "text/plain": [
       "Text(0, 0.5, 'time [s]')"
      ]
     },
     "execution_count": 10,
     "metadata": {},
     "output_type": "execute_result"
    },
    {
     "data": {
      "image/png": "[encoded data removed]",
      "text/plain": [
       "<Figure size 432x288 with 1 Axes>"
      ]
     },
     "metadata": {},
     "output_type": "display_data"
    }
   ],
   "source": [
    "distances = abs(csv[\"to\"] - csv[\"from\"])\n",
    "\n",
    "plt.plot(distances, csv[\"s\"], \"b.\")\n",
    "plt.xlabel(\"distance [%]\")\n",
    "plt.ylabel(\"time [s]\")"
   ]
  },
  {
   "cell_type": "code",
   "execution_count": 13,
   "metadata": {},
   "outputs": [
    {
     "name": "stdout",
     "output_type": "stream",
     "text": [
      "t = 0.413*d + 1.007\n"
     ]
    }
   ],
   "source": [
    "x = distances\n",
    "y = csv[\"s\"]\n",
    "\n",
    "A = np.vstack([x, np.ones(len(x))]).T\n",
    "m, c = np.linalg.lstsq(A, y, rcond=None)[0]\n",
    "\n",
    "print(\"t = {0:0.3f}*d + {1:0.3f}\".format(m, c))"
   ]
  },
  {
   "cell_type": "code",
   "execution_count": 15,
   "metadata": {},
   "outputs": [
    {
     "data": {
      "text/plain": [
       "[<matplotlib.lines.Line2D at 0x7ffad431bda0>]"
      ]
     },
     "execution_count": 15,
     "metadata": {},
     "output_type": "execute_result"
    },
    {
     "data": {
      "image/png": "[encoded data removed]",
      "text/plain": [
       "<Figure size 432x288 with 1 Axes>"
      ]
     },
     "metadata": {},
     "output_type": "display_data"
    }
   ],
   "source": [
    "plt.xlabel(\"distance [%]\")\n",
    "plt.ylabel(\"time [s]\")\n",
    "plt.plot(distances, csv[\"s\"], \"b.\")\n",
    "plt.plot(distances, m*distances + c, \"r-\")\n"
   ]
  }
 ],
 "metadata": {
  "kernelspec": {
   "display_name": "Python 3",
   "language": "python",
   "name": "python3"
  },
  "language_info": {
   "codemirror_mode": {
    "name": "ipython",
    "version": 3
   },
   "file_extension": ".py",
   "mimetype": "text/x-python",
   "name": "python",
   "nbconvert_exporter": "python",
   "pygments_lexer": "ipython3",
   "version": "3.6.9"
  }
 },
 "nbformat": 4,
 "nbformat_minor": 2
}
