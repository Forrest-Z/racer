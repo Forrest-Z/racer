{
 "cells": [
  {
   "cell_type": "code",
   "execution_count": 1,
   "metadata": {},
   "outputs": [],
   "source": [
    "import pandas as pd\n",
    "import numpy as np\n",
    "import matplotlib\n",
    "# matplotlib.use('Agg')\n",
    "import matplotlib.pyplot as plt"
   ]
  },
  {
   "cell_type": "code",
   "execution_count": 2,
   "metadata": {},
   "outputs": [],
   "source": [
    "def load(r, l):\n",
    "    data = pd.read_csv(\"{}-{}.txt\".format(r, l), sep=\"\\t\", names=[\"start\", \"end\", \"#\"], usecols=[\"start\", \"end\"])\n",
    "    durations = data[\"end\"] - data[\"start\"]\n",
    "\n",
    "    return durations"
   ]
  },
  {
   "cell_type": "code",
   "execution_count": 3,
   "metadata": {},
   "outputs": [],
   "source": [
    "# for boxplot\n",
    "durations = {}\n",
    "\n",
    "# for linear regression\n",
    "x = np.array([])\n",
    "y = np.array([])\n",
    "\n",
    "ranges = [\n",
    "    (1200, 1800),\n",
    "    (1250, 1750),\n",
    "    (1300, 1700),\n",
    "    (1350, 1650),\n",
    "    (1400, 1600)\n",
    "]\n",
    "\n",
    "for r, l in ranges:\n",
    "    dist = abs(r - l)\n",
    "    data = load(r, l)\n",
    "    \n",
    "    durations[dist] = np.array(data)\n",
    "\n",
    "    x = np.append(x, np.full(len(data), dist))\n",
    "    y = np.append(y, data)"
   ]
  },
  {
   "cell_type": "code",
   "execution_count": 4,
   "metadata": {},
   "outputs": [
    {
     "name": "stdout",
     "output_type": "stream",
     "text": [
      "PWM disntace to time equation:\n",
      "y=ax + b\n",
      "t=0.00032920313665470423d + 0.1174018182512962\n"
     ]
    },
    {
     "data": {
      "image/png": "[encoded data removed]",
      "text/plain": [
       "<Figure size 720x360 with 1 Axes>"
      ]
     },
     "metadata": {},
     "output_type": "display_data"
    }
   ],
   "source": [
    "A = np.vstack([x, np.ones(len(x))]).T\n",
    "a, b = np.linalg.lstsq(A, y, rcond=None)[0]\n",
    "\n",
    "print(\"PWM disntace to time equation:\")\n",
    "print(\"y=ax + b\")\n",
    "print(\"t={}d + {}\".format(a, b))\n",
    "\n",
    "plt.figure(figsize=(10,5))\n",
    "plt.title(\"Servo setting time\")\n",
    "\n",
    "plt.xlabel(\"d [PWM]\")\n",
    "plt.ylabel(\"t [s]\")\n",
    "\n",
    "boxes = np.array(list(durations.values()))\n",
    "distances = np.array(list(durations.keys()))\n",
    "\n",
    "plt.boxplot(boxes, positions=distances, widths=10, showfliers=False)\n",
    "plt.plot(x, a*x + b, 'r', label='Fitted line')\n",
    "plt.xlim(180, 620)\n",
    "\n",
    "plt.legend()\n",
    "plt.show()\n",
    "\n",
    "# plt.gcf().savefig('servo_setting_time_linreg.eps', format='eps')"
   ]
  }
 ],
 "metadata": {
  "kernelspec": {
   "display_name": "Python 3",
   "language": "python",
   "name": "python3"
  },
  "language_info": {
   "codemirror_mode": {
    "name": "ipython",
    "version": 3
   },
   "file_extension": ".py",
   "mimetype": "text/x-python",
   "name": "python",
   "nbconvert_exporter": "python",
   "pygments_lexer": "ipython3",
   "version": "3.6.9"
  }
 },
 "nbformat": 4,
 "nbformat_minor": 2
}
